{
 "cells": [
  {
   "cell_type": "markdown",
   "id": "4fbb2ca6-27a4-4e6a-9daa-91f9330eedda",
   "metadata": {},
   "source": [
    "# Data Science Tools and Ecosystem"
   ]
  },
  {
   "cell_type": "markdown",
   "id": "45253d93-aec6-4ccf-85ee-0eca9ec946c9",
   "metadata": {},
   "source": [
    "In this notebook, Data Science Tools and Ecosystem are summarized."
   ]
  },
  {
   "cell_type": "markdown",
   "id": "2e1b073e-6699-443b-a1d0-1017d4f5fae7",
   "metadata": {},
   "source": [
    "Some of the popular languages that Data Scientists use are:\n",
    "\n",
    "1. Python  \n",
    "2. R  \n",
    "3. SQL  \n",
    "4. Julia  \n",
    "5. Scala"
   ]
  },
  {
   "cell_type": "markdown",
   "id": "aeface3b-03af-4e1b-81dd-9a774bfc8d23",
   "metadata": {},
   "source": [
    "Some of the commonly used libraries used by Data Scientists include:\n",
    "\n",
    "1. NumPy  \n",
    "2. Pandas  \n",
    "3. Matplotlib  \n",
    "4. Scikit-learn  \n",
    "5. TensorFlow  \n",
    "6. Keras  \n",
    "7. PyTorch"
   ]
  },
  {
   "cell_type": "markdown",
   "id": "dbebdd33-2022-49e4-8360-704c91a1a6cb",
   "metadata": {},
   "source": [
    "| Data Science Tools         |\n",
    "|----------------------------|\n",
    "| Jupyter Notebook           |\n",
    "| RStudio                    |\n",
    "| Apache Zeppelin            |"
   ]
  },
  {
   "cell_type": "markdown",
   "id": "d3efd3a2-51c7-4a48-a7d6-ae2ef58603f9",
   "metadata": {},
   "source": [
    "Below are examples of arithmetic expressions:"
   ]
  },
  {
   "cell_type": "code",
   "execution_count": 7,
   "id": "364929bf-1bc5-4de2-bc87-2a660a0f6557",
   "metadata": {},
   "outputs": [
    {
     "name": "stdout",
     "output_type": "stream",
     "text": [
      "18\n"
     ]
    }
   ],
   "source": [
    "# This is a simple arithmetic expression to multiply then add integers\n",
    "exercise8 = (3 * 4) + 6\n",
    "print(exercise8)"
   ]
  },
  {
   "cell_type": "code",
   "execution_count": 9,
   "id": "371b5e3a-dec0-46a0-8526-a14ced50ff42",
   "metadata": {},
   "outputs": [
    {
     "name": "stdout",
     "output_type": "stream",
     "text": [
      "3.3333333333333335\n"
     ]
    }
   ],
   "source": [
    "# This will convert 200 minutes to hours by dividing by 60\n",
    "minutes = 200\n",
    "hours = minutes / 60\n",
    "print(hours)"
   ]
  },
  {
   "cell_type": "markdown",
   "id": "c4f83bf4-0c02-4da2-bee4-0e58263d791b",
   "metadata": {},
   "source": [
    "**Objectives:**\n",
    "\n",
    "- List popular languages for Data Science.\n",
    "- Identify commonly used libraries in Data Science.\n",
    "- Explore popular Data Science tools and development environments.\n",
    "- Perform basic arithmetic operations in Python.\n",
    "- Convert time units from minutes to hours."
   ]
  },
  {
   "cell_type": "markdown",
   "id": "1c595c7d-a797-41ba-aa59-78f0ced1fbf5",
   "metadata": {},
   "source": [
    "## Author\n",
    "\n",
    "Gustavo de Mendonça Freitas"
   ]
  }
 ],
 "metadata": {
  "kernelspec": {
   "display_name": "Python 3 (ipykernel)",
   "language": "python",
   "name": "python3"
  },
  "language_info": {
   "codemirror_mode": {
    "name": "ipython",
    "version": 3
   },
   "file_extension": ".py",
   "mimetype": "text/x-python",
   "name": "python",
   "nbconvert_exporter": "python",
   "pygments_lexer": "ipython3",
   "version": "3.12.2"
  }
 },
 "nbformat": 4,
 "nbformat_minor": 5
}
